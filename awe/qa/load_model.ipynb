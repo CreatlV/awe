{
 "cells": [
  {
   "cell_type": "code",
   "execution_count": null,
   "metadata": {},
   "outputs": [],
   "source": [
    "import numpy as np\n",
    "import pytorch_lightning as pl\n",
    "import torch\n",
    "import torch.utils.data\n",
    "\n",
    "from awe import gym, qa_model\n",
    "from awe.data import qa_dataset, swde\n",
    "\n",
    "TRAIN_SUBSET = 2000\n",
    "VAL_SUBSET = 50\n",
    "PREPARE_DATA = False"
   ]
  },
  {
   "cell_type": "code",
   "execution_count": null,
   "metadata": {},
   "outputs": [],
   "source": [
    "# Load pre-trained models.\n",
    "pipeline = qa_model.QaPipeline()\n",
    "pipeline.load()"
   ]
  },
  {
   "cell_type": "code",
   "execution_count": null,
   "metadata": {},
   "outputs": [],
   "source": [
    "# Load websites from one vertical.\n",
    "sds = swde.Dataset(suffix='-exact')\n",
    "websites = sds.verticals[0].websites\n",
    "\n",
    "# Split websites.\n",
    "train_website_indices = [0, 3, 4, 5, 7]\n",
    "val_website_indices = [i\n",
    "    for i in range(len(websites))\n",
    "    if i not in train_website_indices\n",
    "]\n",
    "train_websites = [websites[i] for i in train_website_indices]\n",
    "val_websites = [websites[i] for i in val_website_indices]\n",
    "train_website_names = [w.name for w in train_websites]\n",
    "val_website_names = [w.name for w in val_websites]\n",
    "print(f'{train_website_names=}, {val_website_names=}')\n",
    "\n",
    "# Take pages.\n",
    "train_pages = [p for w in train_websites for p in w.pages]\n",
    "val_pages = [p for w in val_websites for p in w.pages]\n",
    "print(f'{len(train_pages)=}, {len(val_pages)=}')\n",
    "\n",
    "# Take subset.\n",
    "rng = np.random.default_rng(42)\n",
    "train_pages = rng.choice(train_pages, TRAIN_SUBSET, replace=False)\n",
    "val_pages = rng.choice(val_pages, VAL_SUBSET, replace=False)\n",
    "print(f'{len(train_pages)=}, {len(val_pages)=}')\n",
    "\n",
    "# Prepare data.\n",
    "if PREPARE_DATA:\n",
    "    qa_dataset.prepare_entries(train_pages)\n",
    "    qa_dataset.prepare_entries(val_pages)\n",
    "\n",
    "# Prepare dataloaders.\n",
    "train_ds = qa_dataset.QaTorchDataset(train_pages, pipeline.tokenizer)\n",
    "val_ds = qa_dataset.QaTorchDataset(val_pages, pipeline.tokenizer)\n",
    "train_loader = torch.utils.data.DataLoader(train_ds, batch_size=1, shuffle=True)\n",
    "val_loader = torch.utils.data.DataLoader(val_ds, batch_size=1)"
   ]
  },
  {
   "cell_type": "code",
   "execution_count": null,
   "metadata": {},
   "outputs": [],
   "source": [
    "# Load model from checkpoint.\n",
    "model = qa_model.QaModel(pipeline)\n",
    "g = gym.Gym(None, None, version_name='')\n",
    "trainer = pl.Trainer(\n",
    "    gpus=torch.cuda.device_count(),\n",
    "    max_epochs=1,\n",
    "    logger=g.create_logger(),\n",
    "    resume_from_checkpoint='logs/63-qa-starter/checkpoints/epoch=0-step=7999.ckpt'\n",
    ")"
   ]
  },
  {
   "cell_type": "code",
   "execution_count": null,
   "metadata": {},
   "outputs": [],
   "source": [
    "trainer.fit(model, train_loader)"
   ]
  },
  {
   "cell_type": "code",
   "execution_count": null,
   "metadata": {},
   "outputs": [],
   "source": [
    "trainer.validate(model, val_loader)"
   ]
  },
  {
   "cell_type": "code",
   "execution_count": null,
   "metadata": {},
   "outputs": [],
   "source": [
    "pred_ds = qa_dataset.QaTorchDataset(val_pages[:2], pipeline.tokenizer)\n",
    "pred_loader = torch.utils.data.DataLoader(pred_ds, batch_size=1)\n",
    "preds = trainer.predict(model, pred_loader)"
   ]
  },
  {
   "cell_type": "code",
   "execution_count": null,
   "metadata": {},
   "outputs": [],
   "source": [
    "pred_ds.decode_predictions(preds)\n",
    "# format: (question, gold, prediction)"
   ]
  },
  {
   "cell_type": "code",
   "execution_count": null,
   "metadata": {},
   "outputs": [],
   "source": []
  }
 ],
 "metadata": {
  "kernelspec": {
   "display_name": "Python 3 (ipykernel)",
   "language": "python",
   "name": "python3"
  },
  "language_info": {
   "codemirror_mode": {
    "name": "ipython",
    "version": 3
   },
   "file_extension": ".py",
   "mimetype": "text/x-python",
   "name": "python",
   "nbconvert_exporter": "python",
   "pygments_lexer": "ipython3",
   "version": "3.9.7"
  }
 },
 "nbformat": 4,
 "nbformat_minor": 2
}
