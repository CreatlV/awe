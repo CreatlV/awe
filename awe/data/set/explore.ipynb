{
 "cells": [
  {
   "cell_type": "code",
   "execution_count": null,
   "metadata": {},
   "outputs": [],
   "source": [
    "import awe.utils\n",
    "awe.utils.init_notebook()"
   ]
  },
  {
   "cell_type": "code",
   "execution_count": null,
   "metadata": {},
   "outputs": [],
   "source": [
    "import collections\n",
    "import os\n",
    "\n",
    "import matplotlib.pyplot as plt\n",
    "import pandas as pd\n",
    "from tqdm.auto import tqdm"
   ]
  },
  {
   "cell_type": "code",
   "execution_count": null,
   "metadata": {},
   "outputs": [],
   "source": [
    "import awe.data.set.apify\n",
    "import awe.data.set.pages\n",
    "import awe.data.set.swde\n",
    "import awe.data.validation\n",
    "import awe.data.visual.exploration\n",
    "awe.utils.reload('awe.data')"
   ]
  },
  {
   "cell_type": "code",
   "execution_count": null,
   "metadata": {},
   "outputs": [],
   "source": [
    "ds = awe.data.set.apify.Dataset(\n",
    "    # only_label_keys=('name', 'price', 'category', 'images'),\n",
    "    # convert=False,\n",
    "    # only_websites=('etsyEn',),\n",
    ")"
   ]
  },
  {
   "cell_type": "code",
   "execution_count": null,
   "metadata": {},
   "outputs": [],
   "source": [
    "pd.DataFrame(p.row for p in ds.get_all_pages()[:10])"
   ]
  },
  {
   "cell_type": "code",
   "execution_count": null,
   "metadata": {},
   "outputs": [],
   "source": [
    "ds = awe.data.set.swde.Dataset(suffix='-exact', only_verticals=('auto',))"
   ]
  },
  {
   "cell_type": "code",
   "execution_count": null,
   "metadata": {},
   "outputs": [],
   "source": [
    "pd.DataFrame(p.to_row() for p in ds.get_all_pages()[:10])"
   ]
  },
  {
   "cell_type": "code",
   "execution_count": null,
   "metadata": {},
   "outputs": [],
   "source": [
    "def get_label_stats(page: awe.data.set.pages.Page):\n",
    "    page_labels = page.get_labels()\n",
    "    return sum(\n",
    "        (\n",
    "            collections.Counter({\n",
    "                k: len(page_labels.get_label_values(k)),\n",
    "                #f'{k}_nodes': len(page_labels.get_labeled_nodes(k)),\n",
    "            })\n",
    "            for k in page_labels.label_keys\n",
    "        ),\n",
    "        collections.Counter()\n",
    "    )\n",
    "\n",
    "stats = [\n",
    "    sum(\n",
    "        (\n",
    "            get_label_stats(p)\n",
    "            for p in tqdm(w.pages, desc=w.name, disable=True)\n",
    "            if w.page_count != 0\n",
    "        ),\n",
    "        collections.Counter()\n",
    "    )\n",
    "    for w in tqdm(ds.verticals[0].websites, desc='websites')\n",
    "]\n",
    "keys = { k for s in stats for k in s.keys() }"
   ]
  },
  {
   "cell_type": "code",
   "execution_count": null,
   "metadata": {},
   "outputs": [],
   "source": [
    "pd.DataFrame([\n",
    "    {\n",
    "        'website': w.name,\n",
    "        'pages': w.page_count\n",
    "    }\n",
    "    | {\n",
    "        k: 0\n",
    "        for k in keys\n",
    "    } | {\n",
    "        k: c #f'{c} ({c / w.page_count:.0%})'\n",
    "        for k, c in s.items()\n",
    "    }\n",
    "    for w, s in zip(ds.verticals[0].websites, stats)\n",
    "])"
   ]
  },
  {
   "cell_type": "code",
   "execution_count": null,
   "metadata": {},
   "outputs": [],
   "source": [
    "page = next(p for p in ds.get_all_pages() if os.path.exists(p.screenshot_path))\n",
    "awe.data.visual.exploration.plot_screenshot_with_boxes(page)"
   ]
  },
  {
   "cell_type": "code",
   "execution_count": null,
   "metadata": {},
   "outputs": [],
   "source": [
    "with open('data/invalid_pages.txt', mode='r', encoding='utf-8') as f:\n",
    "    file_path = f.readline()\n",
    "page = next(p for p in ds.get_all_pages() if p.html_path == file_path)\n",
    "page"
   ]
  },
  {
   "cell_type": "code",
   "execution_count": null,
   "metadata": {},
   "outputs": [],
   "source": [
    "page = ds.verticals[0].websites[0].pages[0]\n",
    "page"
   ]
  },
  {
   "cell_type": "code",
   "execution_count": null,
   "metadata": {},
   "outputs": [],
   "source": [
    "page.url, page.html_path"
   ]
  },
  {
   "cell_type": "code",
   "execution_count": null,
   "metadata": {},
   "outputs": [],
   "source": [
    "page.clear_cache(awe.data.set.pages.ClearCacheRequest())"
   ]
  },
  {
   "cell_type": "code",
   "execution_count": null,
   "metadata": {},
   "outputs": [],
   "source": [
    "page_labels = page.get_labels()\n",
    "page_dom = page.cache_dom()"
   ]
  },
  {
   "cell_type": "code",
   "execution_count": null,
   "metadata": {},
   "outputs": [],
   "source": [
    "page_dom.init_nodes()\n",
    "len(page_dom.nodes)"
   ]
  },
  {
   "cell_type": "code",
   "execution_count": null,
   "metadata": {},
   "outputs": [],
   "source": [
    "page_visuals = page.load_visuals()\n",
    "page_visuals.fill_tree(page_dom)"
   ]
  },
  {
   "cell_type": "code",
   "execution_count": null,
   "metadata": {},
   "outputs": [],
   "source": [
    "page_dom.filter_nodes()\n",
    "len(page_dom.nodes)"
   ]
  },
  {
   "cell_type": "code",
   "execution_count": null,
   "metadata": {},
   "outputs": [],
   "source": []
  },
  {
   "cell_type": "code",
   "execution_count": null,
   "metadata": {},
   "outputs": [],
   "source": [
    "{ k: v for k, v in page.row.items() if k.startswith('selector_') }"
   ]
  },
  {
   "cell_type": "code",
   "execution_count": null,
   "metadata": {},
   "outputs": [],
   "source": [
    "page_dom.init_labels(propagate_to_leaves=True)\n",
    "{\n",
    "    k: [n.get_xpath() for n in v]\n",
    "    for k, v in page_dom.labeled_nodes.items()\n",
    "}"
   ]
  },
  {
   "cell_type": "code",
   "execution_count": null,
   "metadata": {},
   "outputs": [],
   "source": [
    "pd.DataFrame({\n",
    "        'label_key': k,\n",
    "        'xpath': n.get_xpath(),\n",
    "        'text': n.parsed.text(),\n",
    "        'tag': n.semantic_html_tag,\n",
    "        'box': n.box\n",
    "    }\n",
    "    for k, v in page.dom.labeled_nodes.items()\n",
    "    for n in v\n",
    ")"
   ]
  },
  {
   "cell_type": "code",
   "execution_count": null,
   "metadata": {},
   "outputs": [],
   "source": [
    "page_dom.compute_visual_neighbors()"
   ]
  },
  {
   "cell_type": "code",
   "execution_count": null,
   "metadata": {},
   "outputs": [],
   "source": [
    "page_dom.compute_visual_neighbors_rect()"
   ]
  },
  {
   "cell_type": "code",
   "execution_count": null,
   "metadata": {},
   "outputs": [],
   "source": [
    "pd.DataFrame({\n",
    "        'label_key': k,\n",
    "        'text': n.parsed.text()\n",
    "    } | {\n",
    "        f'neighbor_{i}': (m.distance_x, m.distance_y, m.neighbor.text)\n",
    "        for i, m in enumerate(n.visual_neighbors)\n",
    "    }\n",
    "    for k, v in page.dom.labeled_nodes.items()\n",
    "    for n in v\n",
    ")"
   ]
  },
  {
   "cell_type": "code",
   "execution_count": null,
   "metadata": {},
   "outputs": [],
   "source": [
    "page_dom.compute_friend_cycles(max_ancestor_distance=5)"
   ]
  },
  {
   "cell_type": "code",
   "execution_count": null,
   "metadata": {},
   "outputs": [],
   "source": [
    "price_node = page_dom.labeled_nodes['price'][0]\n",
    "text_nodes = [n for n in price_node.traverse() if n.is_text]\n",
    "[(n.text, n.partner.text if n.partner else None) for n in text_nodes]"
   ]
  },
  {
   "cell_type": "code",
   "execution_count": null,
   "metadata": {},
   "outputs": [],
   "source": [
    "target_node = text_nodes[0]\n",
    "pd.DataFrame([{\n",
    "    'tag': n.html_tag,\n",
    "    'index': n.deep_index,\n",
    "    'distance': n.deep_index - target_node.deep_index,\n",
    "    'text': n.parsed.text()\n",
    " } for n in target_node.friends or ()])"
   ]
  },
  {
   "cell_type": "code",
   "execution_count": null,
   "metadata": {},
   "outputs": [],
   "source": [
    "{\n",
    "    k: page_labels.get_label_values(k)\n",
    "    for k in page_labels.label_keys\n",
    "}"
   ]
  },
  {
   "cell_type": "code",
   "execution_count": null,
   "metadata": {},
   "outputs": [],
   "source": [
    "{\n",
    "    k: [\n",
    "        n.text()\n",
    "        for n in page_labels.get_labeled_nodes(k)\n",
    "    ]\n",
    "    for k in page_labels.label_keys\n",
    "}"
   ]
  },
  {
   "cell_type": "code",
   "execution_count": null,
   "metadata": {},
   "outputs": [],
   "source": [
    "pages = ds.get_all_pages(zip_verticals=True, zip_websites=True)\n",
    "validator = awe.data.validation.Validator(visuals=False)\n",
    "validator.validate_pages(pages)"
   ]
  },
  {
   "cell_type": "code",
   "execution_count": null,
   "metadata": {},
   "outputs": [],
   "source": []
  }
 ],
 "metadata": {
  "kernelspec": {
   "display_name": "Python 3 (ipykernel)",
   "language": "python",
   "name": "python3"
  },
  "language_info": {
   "codemirror_mode": {
    "name": "ipython",
    "version": 3
   },
   "file_extension": ".py",
   "mimetype": "text/x-python",
   "name": "python",
   "nbconvert_exporter": "python",
   "pygments_lexer": "ipython3",
   "version": "3.9.7"
  }
 },
 "nbformat": 4,
 "nbformat_minor": 2
}
