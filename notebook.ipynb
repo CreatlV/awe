{
 "cells": [
  {
   "cell_type": "code",
   "execution_count": null,
   "metadata": {},
   "outputs": [],
   "source": [
    "import importlib\n",
    "\n",
    "import torch\n",
    "from torch.utils import data\n",
    "import numpy as np\n",
    "\n",
    "from awe import features, html_utils, awe_dataset, awe_graph\n",
    "from awe.data import swde\n",
    "\n",
    "for module in [swde, features, html_utils, awe_dataset, awe_graph]:\n",
    "    importlib.reload(module)"
   ]
  },
  {
   "cell_type": "code",
   "execution_count": null,
   "metadata": {},
   "outputs": [],
   "source": [
    "np.random.seed(42)\n",
    "torch.manual_seed(42)"
   ]
  },
  {
   "cell_type": "code",
   "execution_count": null,
   "metadata": {},
   "outputs": [],
   "source": [
    "#swde.validate()"
   ]
  },
  {
   "cell_type": "markdown",
   "metadata": {},
   "source": [
    "## Split data"
   ]
  },
  {
   "cell_type": "code",
   "execution_count": null,
   "metadata": {},
   "outputs": [],
   "source": [
    "VAL_SPLIT = .1\n",
    "\n",
    "vertical = swde.VERTICALS[0]\n",
    "websites = list(vertical.websites)\n",
    "split = int(np.floor(VAL_SPLIT * len(websites)))\n",
    "np.random.shuffle(websites)\n",
    "train_websites, val_websites = websites[split:], websites[:split]\n",
    "len(train_websites), len(val_websites)"
   ]
  },
  {
   "cell_type": "code",
   "execution_count": null,
   "metadata": {},
   "outputs": [],
   "source": [
    "def page_transform(page: awe_graph.HtmlPage):\n",
    "    ctx = features.FeatureContext(page)\n",
    "    ctx.add_all([\n",
    "        features.DollarSigns,\n",
    "        features.Depth\n",
    "    ])\n",
    "    return ctx.nodes\n",
    "\n",
    "def node_transform(node: awe_graph.HtmlNode):\n",
    "    return node\n",
    "\n",
    "def target_transform(labels: list[str]):\n",
    "    return labels\n",
    "\n",
    "def create_dataset(websites: list[swde.Website]):\n",
    "    pages = [page for site in websites for page in site.pages]\n",
    "    return awe_dataset.AweDataset(\n",
    "        pages,\n",
    "        page_transform,\n",
    "        node_transform,\n",
    "        target_transform\n",
    "    )"
   ]
  },
  {
   "cell_type": "code",
   "execution_count": null,
   "metadata": {},
   "outputs": [],
   "source": [
    "#train_dataset = create_dataset(train_websites)\n",
    "val_dataset = create_dataset(val_websites)"
   ]
  },
  {
   "cell_type": "code",
   "execution_count": null,
   "metadata": {},
   "outputs": [],
   "source": []
  }
 ],
 "metadata": {
  "interpreter": {
   "hash": "949777d72b0d2535278d3dc13498b2535136f6dfe0678499012e853ee9abcab1"
  },
  "kernelspec": {
   "display_name": "Python 3.9.7 64-bit",
   "name": "python3"
  },
  "language_info": {
   "codemirror_mode": {
    "name": "ipython",
    "version": 3
   },
   "file_extension": ".py",
   "mimetype": "text/x-python",
   "name": "python",
   "nbconvert_exporter": "python",
   "pygments_lexer": "ipython3",
   "version": "3.9.7"
  }
 },
 "nbformat": 4,
 "nbformat_minor": 2
}
