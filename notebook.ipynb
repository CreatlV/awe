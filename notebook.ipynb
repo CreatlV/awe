{
 "cells": [
  {
   "cell_type": "markdown",
   "metadata": {},
   "source": [
    "## Import"
   ]
  },
  {
   "cell_type": "code",
   "execution_count": null,
   "metadata": {},
   "outputs": [],
   "source": [
    "import importlib\n",
    "from typing import TypeVar\n",
    "import collections\n",
    "import os\n",
    "\n",
    "import torch\n",
    "from torch import nn, optim\n",
    "from torch.utils import data\n",
    "import numpy as np\n",
    "\n",
    "from awe import features, html_utils, awe_graph\n",
    "from awe.data import swde\n",
    "\n",
    "for module in [swde, features, html_utils, awe_graph]:\n",
    "    importlib.reload(module)"
   ]
  },
  {
   "cell_type": "code",
   "execution_count": null,
   "metadata": {},
   "outputs": [],
   "source": [
    "np.random.seed(42)\n",
    "torch.manual_seed(42)"
   ]
  },
  {
   "cell_type": "code",
   "execution_count": null,
   "metadata": {},
   "outputs": [],
   "source": [
    "#swde.validate()"
   ]
  },
  {
   "cell_type": "markdown",
   "metadata": {},
   "source": [
    "## Split data"
   ]
  },
  {
   "cell_type": "code",
   "execution_count": null,
   "metadata": {},
   "outputs": [],
   "source": [
    "T = TypeVar('T')\n",
    "def train_val_split(data: list[T], val_split: float):\n",
    "    split = int(np.floor(val_split * len(data)))\n",
    "    copy = list(data)\n",
    "    np.random.seed(42)\n",
    "    np.random.shuffle(copy)\n",
    "    return copy[split:], copy[:split]"
   ]
  },
  {
   "cell_type": "code",
   "execution_count": null,
   "metadata": {},
   "outputs": [],
   "source": [
    "vertical = swde.VERTICALS[0]\n",
    "website = vertical.websites[0]\n",
    "train_pages, val_pages = train_val_split(website.pages[:100], .2)\n",
    "len(train_pages), len(val_pages)"
   ]
  },
  {
   "cell_type": "markdown",
   "metadata": {},
   "source": [
    "## Prepare datapoints"
   ]
  },
  {
   "cell_type": "code",
   "execution_count": null,
   "metadata": {},
   "outputs": [],
   "source": [
    "def new_label_id_counter():\n",
    "    counter = 0\n",
    "    def new_label_id():\n",
    "        nonlocal counter\n",
    "        counter += 1\n",
    "        return counter\n",
    "    return new_label_id\n",
    "\n",
    "def create_label_map():\n",
    "    label_map = collections.defaultdict(new_label_id_counter())\n",
    "    label_map[None] = 0\n",
    "    return label_map\n",
    "\n",
    "def prepare_nodes(\n",
    "    pages: list[awe_graph.HtmlPage],\n",
    "    label_map: dict[str, int]\n",
    "):\n",
    "    def prepare_page(page: awe_graph.HtmlPage):\n",
    "        ctx = features.FeatureContext(page)\n",
    "        ctx.add_all([\n",
    "            features.DollarSigns,\n",
    "            features.Depth\n",
    "        ])\n",
    "        return ctx.nodes\n",
    "\n",
    "    def prepare_node(node: awe_graph.HtmlNode):\n",
    "        # x = features\n",
    "        x = torch.tensor([\n",
    "            node.get_feature(features.DollarSigns).count,\n",
    "            node.get_feature(features.Depth).relative\n",
    "        ])\n",
    "\n",
    "        # y = label (only the first one for now)\n",
    "        label = None if len(node.labels) == 0 else node.labels[0]\n",
    "        y = label_map[label]\n",
    "\n",
    "        return [x, y]\n",
    "\n",
    "    return [prepare_node(node) for page in pages for node in prepare_page(page)]"
   ]
  },
  {
   "cell_type": "code",
   "execution_count": null,
   "metadata": {},
   "outputs": [],
   "source": [
    "label_map = create_label_map()\n",
    "train_nodes = prepare_nodes(train_pages, label_map)\n",
    "label_map.default_factory = None # freeze label map\n",
    "val_nodes = prepare_nodes(val_pages, label_map)\n",
    "len(train_nodes), len(val_nodes)"
   ]
  },
  {
   "cell_type": "code",
   "execution_count": null,
   "metadata": {},
   "outputs": [],
   "source": [
    "label_map"
   ]
  },
  {
   "cell_type": "code",
   "execution_count": null,
   "metadata": {},
   "outputs": [],
   "source": [
    "# Convert labels to one-hot encoding.\n",
    "label_count = len(label_map)\n",
    "def to_one_hot(nodes: list[list]):\n",
    "    return [\n",
    "        [x, torch.FloatTensor(label_count).zero_().scatter_(0, torch.tensor([y]), 1)]\n",
    "        for x, y in nodes\n",
    "    ]\n",
    "train_nodes_oh = to_one_hot(train_nodes)\n",
    "val_nodes_oh = to_one_hot(val_nodes)"
   ]
  },
  {
   "cell_type": "markdown",
   "metadata": {},
   "source": [
    "## Create dataloaders"
   ]
  },
  {
   "cell_type": "code",
   "execution_count": null,
   "metadata": {},
   "outputs": [],
   "source": [
    "cpu_count = os.cpu_count()\n",
    "workers = 0 # cpu_count // 2\n",
    "workers"
   ]
  },
  {
   "cell_type": "code",
   "execution_count": null,
   "metadata": {},
   "outputs": [],
   "source": [
    "BATCH_SIZE = 64\n",
    "train_dataloader = data.DataLoader(train_nodes_oh, batch_size=BATCH_SIZE, num_workers=workers)\n",
    "val_dataloader = data.DataLoader(val_nodes_oh, batch_size=BATCH_SIZE, num_workers=workers)"
   ]
  },
  {
   "cell_type": "code",
   "execution_count": null,
   "metadata": {},
   "outputs": [],
   "source": [
    "for X, y in train_dataloader:\n",
    "    # print(\"X =\", X)\n",
    "    # print(\"Y =\", y)\n",
    "    print(\"Shape of X: \", X.shape)\n",
    "    print(\"Shape of y: \", y.shape, y.dtype)\n",
    "    break"
   ]
  },
  {
   "cell_type": "code",
   "execution_count": null,
   "metadata": {},
   "outputs": [],
   "source": [
    "len(train_dataloader) + len(val_dataloader)"
   ]
  },
  {
   "cell_type": "markdown",
   "metadata": {},
   "source": [
    "## Analyze data"
   ]
  },
  {
   "cell_type": "code",
   "execution_count": null,
   "metadata": {},
   "outputs": [],
   "source": [
    "def count_label(data: list[list], label: int):\n",
    "    return len([1 for _, l in data if l == label])\n",
    "\n",
    "def count_labels(data: list[list]):\n",
    "    return [count_label(data, label) for label in label_map.values()]"
   ]
  },
  {
   "cell_type": "code",
   "execution_count": null,
   "metadata": {},
   "outputs": [],
   "source": [
    "label_counts = count_labels(train_nodes)\n",
    "label_counts, len(train_nodes)"
   ]
  },
  {
   "cell_type": "code",
   "execution_count": null,
   "metadata": {},
   "outputs": [],
   "source": [
    "label_weights = [len(train_nodes) / count for count in label_counts]\n",
    "label_weights"
   ]
  },
  {
   "cell_type": "code",
   "execution_count": null,
   "metadata": {},
   "outputs": [],
   "source": [
    "# Manual override\n",
    "label_weights = [1] + [100_000] * (label_count - 1)\n",
    "label_weights"
   ]
  },
  {
   "cell_type": "markdown",
   "metadata": {},
   "source": [
    "## Train a model"
   ]
  },
  {
   "cell_type": "code",
   "execution_count": null,
   "metadata": {},
   "outputs": [],
   "source": [
    "from awe import awe_model\n",
    "import pytorch_lightning as pl\n",
    "importlib.reload(awe_model)"
   ]
  },
  {
   "cell_type": "code",
   "execution_count": null,
   "metadata": {},
   "outputs": [],
   "source": [
    "model = awe_model.AweModel(label_count, label_weights)\n",
    "trainer = pl.Trainer(max_epochs=10, progress_bar_refresh_rate=100)"
   ]
  },
  {
   "cell_type": "code",
   "execution_count": null,
   "metadata": {},
   "outputs": [],
   "source": [
    "trainer.fit(model, train_dataloader, val_dataloader)"
   ]
  },
  {
   "cell_type": "code",
   "execution_count": null,
   "metadata": {},
   "outputs": [],
   "source": []
  }
 ],
 "metadata": {
  "interpreter": {
   "hash": "949777d72b0d2535278d3dc13498b2535136f6dfe0678499012e853ee9abcab1"
  },
  "kernelspec": {
   "display_name": "Python 3.9.7 64-bit",
   "name": "python3"
  },
  "language_info": {
   "codemirror_mode": {
    "name": "ipython",
    "version": 3
   },
   "file_extension": ".py",
   "mimetype": "text/x-python",
   "name": "python",
   "nbconvert_exporter": "python",
   "pygments_lexer": "ipython3",
   "version": "3.9.7"
  }
 },
 "nbformat": 4,
 "nbformat_minor": 2
}
