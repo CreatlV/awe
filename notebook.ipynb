{
 "cells": [
  {
   "cell_type": "code",
   "execution_count": null,
   "metadata": {},
   "outputs": [],
   "source": [
    "import importlib\n",
    "from typing import TypeVar, Optional\n",
    "import collections\n",
    "\n",
    "import torch\n",
    "from torch.utils import data\n",
    "import numpy as np\n",
    "\n",
    "from awe import features, html_utils, awe_dataset, awe_graph\n",
    "from awe.data import swde\n",
    "\n",
    "for module in [swde, features, html_utils, awe_dataset, awe_graph]:\n",
    "    importlib.reload(module)"
   ]
  },
  {
   "cell_type": "code",
   "execution_count": null,
   "metadata": {},
   "outputs": [],
   "source": [
    "np.random.seed(42)\n",
    "torch.manual_seed(42)"
   ]
  },
  {
   "cell_type": "code",
   "execution_count": null,
   "metadata": {},
   "outputs": [],
   "source": [
    "#swde.validate()"
   ]
  },
  {
   "cell_type": "markdown",
   "metadata": {},
   "source": [
    "## Split data"
   ]
  },
  {
   "cell_type": "code",
   "execution_count": null,
   "metadata": {},
   "outputs": [],
   "source": [
    "T = TypeVar('T')\n",
    "def train_val_split(data: list[T], val_split: float):\n",
    "    split = int(np.floor(val_split * len(data)))\n",
    "    copy = list(data)\n",
    "    np.random.seed(42)\n",
    "    np.random.shuffle(copy)\n",
    "    return copy[split:], copy[:split]"
   ]
  },
  {
   "cell_type": "code",
   "execution_count": null,
   "metadata": {},
   "outputs": [],
   "source": [
    "vertical = swde.VERTICALS[0]\n",
    "website = vertical.websites[0]\n",
    "train_pages, val_pages = train_val_split(website.pages[:100], .2)\n",
    "len(train_pages), len(val_pages)"
   ]
  },
  {
   "cell_type": "markdown",
   "metadata": {},
   "source": [
    "## Prepare datapoints"
   ]
  },
  {
   "cell_type": "code",
   "execution_count": null,
   "metadata": {},
   "outputs": [],
   "source": [
    "def new_label_id_counter():\n",
    "    counter = 0\n",
    "    def new_label_id():\n",
    "        nonlocal counter\n",
    "        counter += 1\n",
    "        return counter\n",
    "    return new_label_id\n",
    "\n",
    "def create_label_map():\n",
    "    label_map = collections.defaultdict(new_label_id_counter())\n",
    "    label_map[None] = 0\n",
    "    return label_map\n",
    "\n",
    "def prepare_nodes(\n",
    "    pages: list[awe_graph.HtmlPage],\n",
    "    label_map: dict[str, int]\n",
    "):\n",
    "    def prepare_page(page: awe_graph.HtmlPage):\n",
    "        ctx = features.FeatureContext(page)\n",
    "        ctx.add_all([\n",
    "            features.DollarSigns,\n",
    "            features.Depth\n",
    "        ])\n",
    "        return ctx.nodes\n",
    "\n",
    "    def prepare_node(node: awe_graph.HtmlNode):\n",
    "        # x = features\n",
    "        x = [\n",
    "            node.get_feature(features.DollarSigns).count,\n",
    "            node.get_feature(features.Depth).relative\n",
    "        ]\n",
    "\n",
    "        # y = label (only the first one for now)\n",
    "        label = None if len(node.labels) == 0 else node.labels[0]\n",
    "        y = label_map[label]\n",
    "\n",
    "        return [x, y]\n",
    "\n",
    "    return [prepare_node(node) for page in pages for node in prepare_page(page)]"
   ]
  },
  {
   "cell_type": "code",
   "execution_count": null,
   "metadata": {},
   "outputs": [],
   "source": [
    "label_map = create_label_map()\n",
    "train_nodes = prepare_nodes(train_pages, label_map)\n",
    "label_map.default_factory = None # freeze label map\n",
    "val_nodes = prepare_nodes(val_pages, label_map)\n",
    "len(train_nodes), len(val_nodes)"
   ]
  },
  {
   "cell_type": "code",
   "execution_count": null,
   "metadata": {},
   "outputs": [],
   "source": [
    "train_nodes"
   ]
  },
  {
   "cell_type": "markdown",
   "metadata": {},
   "source": [
    "## Old"
   ]
  },
  {
   "cell_type": "code",
   "execution_count": null,
   "metadata": {},
   "outputs": [],
   "source": [
    "def page_transform(page: awe_graph.HtmlPage):\n",
    "    ctx = features.FeatureContext(page)\n",
    "    ctx.add_all([\n",
    "        features.DollarSigns,\n",
    "        features.Depth\n",
    "    ])\n",
    "    return ctx.nodes\n",
    "\n",
    "def node_transform(node: awe_graph.HtmlNode):\n",
    "    return node\n",
    "\n",
    "def target_transform(labels: list[str]):\n",
    "    return labels\n",
    "\n",
    "def create_dataset(websites: list[swde.Website]):\n",
    "    pages = [page for site in websites for page in site.pages]\n",
    "    return awe_dataset.AweDataset(\n",
    "        pages,\n",
    "        page_transform,\n",
    "        node_transform,\n",
    "        target_transform\n",
    "    )"
   ]
  },
  {
   "cell_type": "code",
   "execution_count": null,
   "metadata": {},
   "outputs": [],
   "source": [
    "#train_dataset = create_dataset(train_websites)\n",
    "val_dataset = create_dataset(val_websites)"
   ]
  },
  {
   "cell_type": "code",
   "execution_count": null,
   "metadata": {},
   "outputs": [],
   "source": [
    "len(val_dataset)"
   ]
  },
  {
   "cell_type": "code",
   "execution_count": null,
   "metadata": {},
   "outputs": [],
   "source": []
  }
 ],
 "metadata": {
  "interpreter": {
   "hash": "949777d72b0d2535278d3dc13498b2535136f6dfe0678499012e853ee9abcab1"
  },
  "kernelspec": {
   "display_name": "Python 3.9.7 64-bit",
   "name": "python3"
  },
  "language_info": {
   "codemirror_mode": {
    "name": "ipython",
    "version": 3
   },
   "file_extension": ".py",
   "mimetype": "text/x-python",
   "name": "python",
   "nbconvert_exporter": "python",
   "pygments_lexer": "ipython3",
   "version": "3.9.7"
  }
 },
 "nbformat": 4,
 "nbformat_minor": 2
}
