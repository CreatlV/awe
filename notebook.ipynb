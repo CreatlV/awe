{
 "cells": [
  {
   "cell_type": "markdown",
   "metadata": {},
   "source": [
    "## Import"
   ]
  },
  {
   "cell_type": "code",
   "execution_count": null,
   "metadata": {},
   "outputs": [],
   "source": [
    "import importlib\n",
    "from typing import TypeVar\n",
    "import collections\n",
    "import os\n",
    "import itertools\n",
    "\n",
    "import torch\n",
    "from torch import nn, optim\n",
    "from torch_geometric import data, loader\n",
    "import numpy as np\n",
    "\n",
    "from awe import features, html_utils, awe_graph\n",
    "from awe.data import swde\n",
    "\n",
    "for module in [swde, features, html_utils, awe_graph]:\n",
    "    importlib.reload(module)"
   ]
  },
  {
   "cell_type": "code",
   "execution_count": null,
   "metadata": {},
   "outputs": [],
   "source": [
    "np.random.seed(42)\n",
    "torch.manual_seed(42)"
   ]
  },
  {
   "cell_type": "code",
   "execution_count": null,
   "metadata": {},
   "outputs": [],
   "source": [
    "#swde.validate()"
   ]
  },
  {
   "cell_type": "markdown",
   "metadata": {},
   "source": [
    "## Split data"
   ]
  },
  {
   "cell_type": "code",
   "execution_count": null,
   "metadata": {},
   "outputs": [],
   "source": [
    "T = TypeVar('T')\n",
    "def train_val_split(data: list[T], val_split: float):\n",
    "    split = int(np.floor(val_split * len(data)))\n",
    "    copy = list(data)\n",
    "    np.random.seed(42)\n",
    "    np.random.shuffle(copy)\n",
    "    return copy[split:], copy[:split]"
   ]
  },
  {
   "cell_type": "code",
   "execution_count": null,
   "metadata": {},
   "outputs": [],
   "source": [
    "vertical = swde.VERTICALS[0]\n",
    "website = vertical.websites[0]\n",
    "train_pages, val_pages = train_val_split(website.pages[:100], .2)\n",
    "len(train_pages), len(val_pages)"
   ]
  },
  {
   "cell_type": "markdown",
   "metadata": {},
   "source": [
    "## Prepare datapoints"
   ]
  },
  {
   "cell_type": "code",
   "execution_count": null,
   "metadata": {},
   "outputs": [],
   "source": [
    "def new_label_id_counter():\n",
    "    counter = 0\n",
    "    def new_label_id():\n",
    "        nonlocal counter\n",
    "        counter += 1\n",
    "        return counter\n",
    "    return new_label_id\n",
    "\n",
    "def create_label_map():\n",
    "    label_map = collections.defaultdict(new_label_id_counter())\n",
    "    label_map[None] = 0\n",
    "    return label_map\n",
    "\n",
    "def prepare_data(\n",
    "    pages: list[awe_graph.HtmlPage],\n",
    "    label_map: dict[str, int]\n",
    "):\n",
    "    def get_node_features(node: awe_graph.HtmlNode):\n",
    "        return [\n",
    "            node.get_feature(features.DollarSigns).count,\n",
    "            node.get_feature(features.Depth).relative\n",
    "        ]\n",
    "\n",
    "    def get_node_label(node: awe_graph.HtmlNode):\n",
    "        # Only the first label for now.\n",
    "        label = None if len(node.labels) == 0 else node.labels[0]\n",
    "        return label_map[label]\n",
    "\n",
    "    def prepare_page(page: awe_graph.HtmlPage):\n",
    "        ctx = features.FeatureContext(page)\n",
    "        ctx.add_all([\n",
    "            features.DollarSigns,\n",
    "            features.Depth\n",
    "        ])\n",
    "        x = torch.tensor(list(map(get_node_features, ctx.nodes)))\n",
    "        y = torch.tensor(list(map(get_node_label, ctx.nodes)))\n",
    "        return data.Data(x=x, y=y)\n",
    "\n",
    "    return list(map(prepare_page, pages))"
   ]
  },
  {
   "cell_type": "code",
   "execution_count": null,
   "metadata": {},
   "outputs": [],
   "source": [
    "label_map = create_label_map()\n",
    "train_data = prepare_data(train_pages, label_map)\n",
    "label_map.default_factory = None # freeze label map\n",
    "val_data = prepare_data(val_pages, label_map)\n",
    "len(train_data), len(val_data)"
   ]
  },
  {
   "cell_type": "code",
   "execution_count": null,
   "metadata": {},
   "outputs": [],
   "source": [
    "label_map"
   ]
  },
  {
   "cell_type": "markdown",
   "metadata": {},
   "source": [
    "## Create dataloaders"
   ]
  },
  {
   "cell_type": "code",
   "execution_count": null,
   "metadata": {},
   "outputs": [],
   "source": [
    "BATCH_SIZE = 1\n",
    "train_dataloader = loader.DataLoader(train_data, batch_size=BATCH_SIZE, shuffle=True)\n",
    "val_dataloader = loader.DataLoader(val_data, batch_size=BATCH_SIZE)"
   ]
  },
  {
   "cell_type": "code",
   "execution_count": null,
   "metadata": {},
   "outputs": [],
   "source": [
    "for batch in train_dataloader:\n",
    "    print(batch)\n",
    "    break"
   ]
  },
  {
   "cell_type": "code",
   "execution_count": null,
   "metadata": {},
   "outputs": [],
   "source": [
    "len(train_dataloader) + len(val_dataloader)"
   ]
  },
  {
   "cell_type": "markdown",
   "metadata": {},
   "source": [
    "## Weight labels"
   ]
  },
  {
   "cell_type": "code",
   "execution_count": null,
   "metadata": {},
   "outputs": [],
   "source": [
    "def count_label(data: list[data.Data], label: int):\n",
    "    return len([1 for d in data for y in d.y if y == label])\n",
    "\n",
    "def count_labels(data: list[data.Data]):\n",
    "    return [count_label(data, label) for label in label_map.values()]"
   ]
  },
  {
   "cell_type": "code",
   "execution_count": null,
   "metadata": {},
   "outputs": [],
   "source": [
    "label_counts = count_labels(train_data)\n",
    "label_counts, len(train_data)"
   ]
  },
  {
   "cell_type": "code",
   "execution_count": null,
   "metadata": {},
   "outputs": [],
   "source": [
    "label_weights = [len(train_data) / count for count in label_counts]\n",
    "label_weights"
   ]
  },
  {
   "cell_type": "code",
   "execution_count": null,
   "metadata": {},
   "outputs": [],
   "source": [
    "# Manual override\n",
    "label_count = len(label_map)\n",
    "label_weights = [1] + [100_000] * (label_count - 1)\n",
    "label_weights"
   ]
  },
  {
   "cell_type": "markdown",
   "metadata": {},
   "source": [
    "## Train a model"
   ]
  },
  {
   "cell_type": "code",
   "execution_count": null,
   "metadata": {},
   "outputs": [],
   "source": [
    "from awe import awe_model\n",
    "import pytorch_lightning as pl\n",
    "importlib.reload(awe_model)"
   ]
  },
  {
   "cell_type": "code",
   "execution_count": null,
   "metadata": {},
   "outputs": [],
   "source": [
    "model = awe_model.AweModel(label_count, label_weights)"
   ]
  },
  {
   "cell_type": "code",
   "execution_count": null,
   "metadata": {},
   "outputs": [],
   "source": [
    "trainer = pl.Trainer(\n",
    "    max_epochs=50,\n",
    "    progress_bar_refresh_rate=100,\n",
    "    resume_from_checkpoint='lightning_logs/chkpt'\n",
    ")\n",
    "trainer.fit(model, train_dataloader, val_dataloader)"
   ]
  },
  {
   "cell_type": "code",
   "execution_count": null,
   "metadata": {},
   "outputs": [],
   "source": [
    "trainer.validate(model, val_dataloader)"
   ]
  },
  {
   "cell_type": "code",
   "execution_count": null,
   "metadata": {},
   "outputs": [],
   "source": [
    "trainer.save_checkpoint('lightning_logs/chkpt')"
   ]
  },
  {
   "cell_type": "markdown",
   "metadata": {},
   "source": [
    "## Example prediction"
   ]
  },
  {
   "cell_type": "code",
   "execution_count": null,
   "metadata": {},
   "outputs": [],
   "source": [
    "def predict(index: int):\n",
    "    example_batch = next(itertools.islice(val_dataloader, index, None))\n",
    "    example_page = val_pages[index]\n",
    "    example_nodes = list(example_page.nodes)\n",
    "\n",
    "    predicted_nodes = []\n",
    "    def handle(name: str, mask, idx=None):\n",
    "        if name[1] == 'p':\n",
    "            masked = itertools.compress(example_nodes, mask)\n",
    "            node = next(itertools.islice(masked, idx, None))\n",
    "            predicted_nodes.append(node)\n",
    "    model.predict_swde(example_batch, label_map['model'], handle)\n",
    "\n",
    "    return predicted_nodes"
   ]
  },
  {
   "cell_type": "code",
   "execution_count": null,
   "metadata": {},
   "outputs": [],
   "source": [
    "[predict(i)[0].element.text_content() for i in range(10)]"
   ]
  },
  {
   "cell_type": "code",
   "execution_count": null,
   "metadata": {},
   "outputs": [],
   "source": []
  }
 ],
 "metadata": {
  "interpreter": {
   "hash": "949777d72b0d2535278d3dc13498b2535136f6dfe0678499012e853ee9abcab1"
  },
  "kernelspec": {
   "display_name": "Python 3.9.7 64-bit",
   "name": "python3"
  },
  "language_info": {
   "codemirror_mode": {
    "name": "ipython",
    "version": 3
   },
   "file_extension": ".py",
   "mimetype": "text/x-python",
   "name": "python",
   "nbconvert_exporter": "python",
   "pygments_lexer": "ipython3",
   "version": "3.9.7"
  }
 },
 "nbformat": 4,
 "nbformat_minor": 2
}
