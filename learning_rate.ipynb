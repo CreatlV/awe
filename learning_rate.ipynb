{
 "cells": [
  {
   "cell_type": "code",
   "execution_count": null,
   "metadata": {},
   "outputs": [],
   "source": [
    "import dataclasses\n",
    "import importlib\n",
    "\n",
    "import numpy as np\n",
    "\n",
    "from awe import awe_model, gym, awe_trainer\n",
    "\n",
    "for module in [awe_model, gym, awe_trainer]:\n",
    "    importlib.reload(module)"
   ]
  },
  {
   "cell_type": "code",
   "execution_count": null,
   "metadata": {},
   "outputs": [],
   "source": [
    "base_params = awe_trainer.AweTrainingParams(\n",
    "    use_gpu=True,\n",
    "    epochs=100,\n",
    "    batch_size=64,\n",
    "    num_workers=8,\n",
    "    train_pages_subset=100,\n",
    "    version_name='lr-finder',\n",
    "    delete_existing_version=True,\n",
    "    model=awe_model.AweModelParams(\n",
    "        use_lstm=True,\n",
    "        lstm_args={\n",
    "            'bidirectional': True\n",
    "        },\n",
    "        use_char_lstm=False,\n",
    "        char_lstm_args={\n",
    "            'bidirectional': True\n",
    "        },\n",
    "        disable_direct_features=False,\n",
    "        use_word_vectors=True,\n",
    "    )\n",
    ")"
   ]
  },
  {
   "cell_type": "code",
   "execution_count": null,
   "metadata": {},
   "outputs": [],
   "source": [
    "trainer = awe_trainer.AweTrainer(base_params)\n",
    "trainer.load_data()"
   ]
  },
  {
   "cell_type": "code",
   "execution_count": null,
   "metadata": {},
   "outputs": [],
   "source": [
    "trainer.prepare_model()"
   ]
  },
  {
   "cell_type": "code",
   "execution_count": null,
   "metadata": {},
   "outputs": [],
   "source": [
    "trainer.find_lr()"
   ]
  },
  {
   "cell_type": "code",
   "execution_count": null,
   "metadata": {},
   "outputs": [],
   "source": []
  }
 ],
 "metadata": {
  "kernelspec": {
   "display_name": "Python 3 (ipykernel)",
   "language": "python",
   "name": "python3"
  },
  "language_info": {
   "codemirror_mode": {
    "name": "ipython",
    "version": 3
   },
   "file_extension": ".py",
   "mimetype": "text/x-python",
   "name": "python",
   "nbconvert_exporter": "python",
   "pygments_lexer": "ipython3",
   "version": "3.9.7"
  }
 },
 "nbformat": 4,
 "nbformat_minor": 2
}
