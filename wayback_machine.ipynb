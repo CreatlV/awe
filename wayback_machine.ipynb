{
 "cells": [
  {
   "cell_type": "markdown",
   "metadata": {},
   "source": [
    "This notebook tests which pages from SWDE are available in archive.org. We could then use those because they have also their CSS archived."
   ]
  },
  {
   "cell_type": "code",
   "execution_count": null,
   "metadata": {},
   "outputs": [],
   "source": [
    "import importlib\n",
    "import json\n",
    "import dataclasses\n",
    "\n",
    "from tqdm.auto import tqdm\n",
    "\n",
    "from awe.data import swde, wayback, constants\n",
    "from awe import awe_graph\n",
    "for module in [wayback]:\n",
    "    importlib.reload(module)"
   ]
  },
  {
   "cell_type": "code",
   "execution_count": null,
   "metadata": {},
   "outputs": [],
   "source": [
    "# Try only subset for now.\n",
    "vertical = swde.VERTICALS[0]\n",
    "website = vertical.websites[1]\n",
    "pages = website.pages[:50]"
   ]
  },
  {
   "cell_type": "code",
   "execution_count": null,
   "metadata": {},
   "outputs": [],
   "source": [
    "SWDE_TIMESTAMP = '20110601000000' # SWDE was released in 2011\n",
    "WAYBACK_DATA_PATH = f'{constants.DATA_DIR}/wayback.json'"
   ]
  },
  {
   "cell_type": "code",
   "execution_count": null,
   "metadata": {},
   "outputs": [],
   "source": [
    "# Load saved responses.\n",
    "with open(WAYBACK_DATA_PATH, mode='r', encoding='utf-8') as f:\n",
    "    data_dict = json.loads(f.read())\n",
    "already_loaded = 0\n",
    "newly_loaded = 0\n",
    "newly_skipped = 0\n",
    "not_loaded = 0\n",
    "for page in pages:\n",
    "    if page.archived is False:\n",
    "        response = data_dict.get(page.url, False)\n",
    "        if response is None:\n",
    "            # `null` value saved in the JSON means the page was fetched but the\n",
    "            # API returned no results.\n",
    "            page.archived = None\n",
    "            newly_skipped += 1\n",
    "        elif response is False:\n",
    "            # This means the URL is not contained in the JSON.\n",
    "            not_loaded += 1\n",
    "        else:\n",
    "            page.archived = wayback.WaybackPage(page.url, **response)\n",
    "            newly_loaded += 1\n",
    "    else:\n",
    "        already_loaded += 1\n",
    "already_loaded, newly_loaded, newly_skipped, not_loaded, len(data_dict)"
   ]
  },
  {
   "cell_type": "code",
   "execution_count": null,
   "metadata": {},
   "outputs": [],
   "source": [
    "# Fetch data from API.\n",
    "RETRY_FAILED = False\n",
    "fetched = 0\n",
    "failed = 0\n",
    "for page in tqdm(pages, desc='pages'):\n",
    "    if page.archived is False or (page.archived is None and RETRY_FAILED):\n",
    "        page.archived = wayback.WaybackPage.get(page.url, SWDE_TIMESTAMP)\n",
    "        fetched += 1\n",
    "        if page.archived is None:\n",
    "            failed += 1\n",
    "fetched, failed"
   ]
  },
  {
   "cell_type": "code",
   "execution_count": null,
   "metadata": {},
   "outputs": [],
   "source": [
    "# Run some stats on data.\n",
    "no_snapshot = 0\n",
    "bad_status = 0\n",
    "total = 0\n",
    "for page in pages:\n",
    "    if page.archived is False:\n",
    "        break\n",
    "    elif page.archived is None:\n",
    "        no_snapshot += 1\n",
    "    elif page.archived.status != 200:\n",
    "        bad_status += 1\n",
    "    total += 1\n",
    "no_snapshot, bad_status, total"
   ]
  },
  {
   "cell_type": "code",
   "execution_count": null,
   "metadata": {},
   "outputs": [],
   "source": [
    "# Store obtained WaybackMachine API responses in a file.\n",
    "def serialize_page(page: awe_graph.HtmlPage):\n",
    "    if page.archived is None:\n",
    "        return None\n",
    "    d = dataclasses.asdict(page.archived)\n",
    "    del d['original_url']\n",
    "    return d\n",
    "data_dict = data_dict | {\n",
    "    page.url: serialize_page(page)\n",
    "    for page in pages\n",
    "    if page.archived is not False\n",
    "}\n",
    "with open(WAYBACK_DATA_PATH, mode='w', encoding='utf-8') as f:\n",
    "    f.write(json.dumps(data_dict, indent=2))\n",
    "len(data_dict), WAYBACK_DATA_PATH"
   ]
  },
  {
   "cell_type": "code",
   "execution_count": null,
   "metadata": {},
   "outputs": [],
   "source": []
  }
 ],
 "metadata": {
  "interpreter": {
   "hash": "949777d72b0d2535278d3dc13498b2535136f6dfe0678499012e853ee9abcab1"
  },
  "kernelspec": {
   "display_name": "Python 3.9.7 64-bit",
   "name": "python3"
  },
  "language_info": {
   "codemirror_mode": {
    "name": "ipython",
    "version": 3
   },
   "file_extension": ".py",
   "mimetype": "text/x-python",
   "name": "python",
   "nbconvert_exporter": "python",
   "pygments_lexer": "ipython3",
   "version": "3.9.7"
  }
 },
 "nbformat": 4,
 "nbformat_minor": 2
}
