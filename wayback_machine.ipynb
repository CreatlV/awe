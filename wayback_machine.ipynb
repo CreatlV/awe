{
 "cells": [
  {
   "cell_type": "markdown",
   "metadata": {},
   "source": [
    "This notebook tests which pages from SWDE are available in archive.org. We could then use those because they have also their CSS archived."
   ]
  },
  {
   "cell_type": "code",
   "execution_count": null,
   "metadata": {},
   "outputs": [],
   "source": [
    "import importlib\n",
    "import json\n",
    "import dataclasses\n",
    "\n",
    "from tqdm.auto import tqdm\n",
    "\n",
    "from awe.data import swde, wayback, constants\n",
    "from awe import awe_graph\n",
    "for module in [wayback]:\n",
    "    importlib.reload(module)"
   ]
  },
  {
   "cell_type": "code",
   "execution_count": null,
   "metadata": {},
   "outputs": [],
   "source": [
    "# Try only subset for now.\n",
    "vertical = swde.VERTICALS[0]\n",
    "website = vertical.websites[0]\n",
    "pages = website.pages[:10]"
   ]
  },
  {
   "cell_type": "code",
   "execution_count": null,
   "metadata": {},
   "outputs": [],
   "source": [
    "SWDE_TIMESTAMP = '20110601000000' # SWDE was released in 2011\n",
    "WAYBACK_DATA_PATH = f'{constants.DATA_DIR}/wayback.json'"
   ]
  },
  {
   "cell_type": "code",
   "execution_count": null,
   "metadata": {},
   "outputs": [],
   "source": [
    "# Load saved responses.\n",
    "with open(WAYBACK_DATA_PATH, mode='r', encoding='utf-8') as f:\n",
    "    data_dict = json.loads(f.read())\n",
    "already_loaded = 0\n",
    "newly_loaded = 0\n",
    "not_loaded = 0\n",
    "for page in pages:\n",
    "    if page.archived is False:\n",
    "        response = data_dict.get(page.url)\n",
    "        if response is not None:\n",
    "            page.archived = wayback.WaybackPage(page.url, **response)\n",
    "            newly_loaded += 1\n",
    "    elif page.archived is not None:\n",
    "        already_loaded += 1\n",
    "    else:\n",
    "        not_loaded += 1\n",
    "(already_loaded, newly_loaded, not_loaded)"
   ]
  },
  {
   "cell_type": "code",
   "execution_count": null,
   "metadata": {},
   "outputs": [],
   "source": [
    "for page in tqdm(pages, desc='pages'):\n",
    "    if page.archived is False:\n",
    "        page.archived = wayback.WaybackPage.get(page.url, SWDE_TIMESTAMP)"
   ]
  },
  {
   "cell_type": "code",
   "execution_count": null,
   "metadata": {},
   "outputs": [],
   "source": [
    "no_snapshot = 0\n",
    "bad_status = 0\n",
    "total = 0\n",
    "for page in pages:\n",
    "    if page.archived is False:\n",
    "        break\n",
    "    elif page.archived is None:\n",
    "        no_snapshot += 1\n",
    "    elif page.archived.status != 200:\n",
    "        bad_status += 1\n",
    "    total += 1\n",
    "no_snapshot, bad_status, total"
   ]
  },
  {
   "cell_type": "code",
   "execution_count": null,
   "metadata": {},
   "outputs": [],
   "source": [
    "# Store obtained WaybackMachine API responses in a file.\n",
    "def serialize_page(page: awe_graph.HtmlPage):\n",
    "    if page.archived is None:\n",
    "        return None\n",
    "    d = dataclasses.asdict(page.archived)\n",
    "    del d['original_url']\n",
    "    return d\n",
    "data_dict = {\n",
    "    page.url: serialize_page(page)\n",
    "    for page in pages\n",
    "    if page.archived is not False\n",
    "}\n",
    "with open(WAYBACK_DATA_PATH, mode='w', encoding='utf-8') as f:\n",
    "    f.write(json.dumps(data_dict, indent=2))\n",
    "len(data_dict), WAYBACK_DATA_PATH"
   ]
  },
  {
   "cell_type": "code",
   "execution_count": null,
   "metadata": {},
   "outputs": [],
   "source": []
  }
 ],
 "metadata": {
  "interpreter": {
   "hash": "949777d72b0d2535278d3dc13498b2535136f6dfe0678499012e853ee9abcab1"
  },
  "kernelspec": {
   "display_name": "Python 3.9.7 64-bit",
   "name": "python3"
  },
  "language_info": {
   "codemirror_mode": {
    "name": "ipython",
    "version": 3
   },
   "file_extension": ".py",
   "mimetype": "text/x-python",
   "name": "python",
   "nbconvert_exporter": "python",
   "pygments_lexer": "ipython3",
   "version": "3.9.7"
  }
 },
 "nbformat": 4,
 "nbformat_minor": 2
}
