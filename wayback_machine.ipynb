{
 "cells": [
  {
   "cell_type": "markdown",
   "metadata": {},
   "source": [
    "This notebook tests which pages from SWDE are available in archive.org. We could then use those because they have also their CSS archived."
   ]
  },
  {
   "cell_type": "code",
   "execution_count": null,
   "metadata": {},
   "outputs": [],
   "source": [
    "import importlib\n",
    "import json\n",
    "import dataclasses\n",
    "\n",
    "from tqdm.auto import tqdm\n",
    "\n",
    "from awe.data import swde, wayback, constants\n",
    "from awe import awe_graph\n",
    "for module in [wayback]:\n",
    "    importlib.reload(module)"
   ]
  },
  {
   "cell_type": "code",
   "execution_count": null,
   "metadata": {},
   "outputs": [],
   "source": [
    "# Try only subset for now.\n",
    "vertical = swde.VERTICALS[0]\n",
    "website = vertical.websites[0]\n",
    "pages = website.pages[10]"
   ]
  },
  {
   "cell_type": "code",
   "execution_count": null,
   "metadata": {},
   "outputs": [],
   "source": [
    "SWDE_TIMESTAMP = '20110601000000' # SWDE was released in 2011"
   ]
  },
  {
   "cell_type": "code",
   "execution_count": null,
   "metadata": {},
   "outputs": [],
   "source": [
    "for page in tqdm(pages, desc='pages'):\n",
    "    if page.archived is False:\n",
    "        page.archived = wayback.WaybackPage.get(page.url, SWDE_TIMESTAMP)"
   ]
  },
  {
   "cell_type": "code",
   "execution_count": null,
   "metadata": {},
   "outputs": [],
   "source": [
    "no_snapshot = 0\n",
    "bad_status = 0\n",
    "total = 0\n",
    "for page in pages:\n",
    "    if page.archived is False:\n",
    "        break\n",
    "    elif page.archived is None:\n",
    "        no_snapshot += 1\n",
    "    elif page.archived.status != 200:\n",
    "        bad_status += 1\n",
    "    total += 1\n",
    "no_snapshot, bad_status, total"
   ]
  },
  {
   "cell_type": "code",
   "execution_count": null,
   "metadata": {},
   "outputs": [],
   "source": [
    "# Store obtained WaybackMachine API responses in a file.\n",
    "def serialize_page(page: awe_graph.HtmlPage):\n",
    "    if page.archived is None:\n",
    "        return None\n",
    "    d = dataclasses.asdict(page.archived)\n",
    "    del d['original_url']\n",
    "    return d\n",
    "data_dict = {\n",
    "    page.url: serialize_page(page)\n",
    "    for page in pages\n",
    "    if page.archived is not False\n",
    "}\n",
    "data_path = f'{constants.DATA_DIR}/wayback.json'\n",
    "with open(data_path, mode='w') as f:\n",
    "    f.write(json.dumps(data_dict, indent=2))\n",
    "data_path"
   ]
  },
  {
   "cell_type": "code",
   "execution_count": null,
   "metadata": {},
   "outputs": [],
   "source": []
  }
 ],
 "metadata": {
  "interpreter": {
   "hash": "949777d72b0d2535278d3dc13498b2535136f6dfe0678499012e853ee9abcab1"
  },
  "kernelspec": {
   "display_name": "Python 3.9.7 64-bit",
   "name": "python3"
  },
  "language_info": {
   "codemirror_mode": {
    "name": "ipython",
    "version": 3
   },
   "file_extension": ".py",
   "mimetype": "text/x-python",
   "name": "python",
   "nbconvert_exporter": "python",
   "pygments_lexer": "ipython3",
   "version": "3.9.7"
  }
 },
 "nbformat": 4,
 "nbformat_minor": 2
}
