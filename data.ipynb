{
 "cells": [
  {
   "cell_type": "code",
   "execution_count": null,
   "metadata": {},
   "outputs": [],
   "source": [
    "import importlib\n",
    "\n",
    "from awe.data import swde, html_utils"
   ]
  },
  {
   "cell_type": "code",
   "execution_count": null,
   "metadata": {},
   "outputs": [],
   "source": [
    "for module in [swde, html_utils]:\n",
    "    importlib.reload(module)"
   ]
  },
  {
   "cell_type": "code",
   "execution_count": null,
   "metadata": {},
   "outputs": [],
   "source": [
    "#swde.validate()"
   ]
  },
  {
   "cell_type": "code",
   "execution_count": null,
   "metadata": {},
   "outputs": [],
   "source": [
    "vertical = swde.VERTICALS[0]\n",
    "website = vertical.websites[0]\n",
    "page = website.pages[0]\n",
    "page.file_path"
   ]
  },
  {
   "cell_type": "code",
   "execution_count": null,
   "metadata": {},
   "outputs": [],
   "source": [
    "field = website.groundtruth[1]\n",
    "entry = field.entries[0]\n",
    "value = entry.values[0]\n",
    "entry.page.file_path, entry.field.name, value"
   ]
  },
  {
   "cell_type": "code",
   "execution_count": null,
   "metadata": {},
   "outputs": [],
   "source": [
    "page_dom = page.dom\n",
    "html_utils.clean(page_dom)"
   ]
  },
  {
   "cell_type": "code",
   "execution_count": null,
   "metadata": {},
   "outputs": [],
   "source": [
    "groundtruth_nodes = entry.nodes\n",
    "groundtruth_nodes"
   ]
  },
  {
   "cell_type": "code",
   "execution_count": null,
   "metadata": {},
   "outputs": [],
   "source": [
    "def iterate_nodes():\n",
    "    nodes = html_utils.iter_with_fragments(page_dom.root)\n",
    "    for index, (xpath, node) in enumerate(nodes):\n",
    "        is_text = isinstance(node, str)\n",
    "\n",
    "        # Exclude whitespace fragments.\n",
    "        if is_text and node.isspace():\n",
    "            continue\n",
    "\n",
    "        # Determine node's label.\n",
    "        label = entry.field.name if xpath in groundtruth_nodes else None\n",
    "\n",
    "        # Create node representation.\n",
    "        result = {\n",
    "            'id': index,\n",
    "            'xpath': xpath,\n",
    "            'label': label\n",
    "        }\n",
    "        if is_text:\n",
    "            result['text'] = node\n",
    "        yield result\n",
    "\n",
    "list(iterate_nodes())"
   ]
  },
  {
   "cell_type": "code",
   "execution_count": null,
   "metadata": {},
   "outputs": [],
   "source": []
  }
 ],
 "metadata": {
  "interpreter": {
   "hash": "949777d72b0d2535278d3dc13498b2535136f6dfe0678499012e853ee9abcab1"
  },
  "kernelspec": {
   "display_name": "Python 3.9.7 64-bit",
   "name": "python3"
  },
  "language_info": {
   "codemirror_mode": {
    "name": "ipython",
    "version": 3
   },
   "file_extension": ".py",
   "mimetype": "text/x-python",
   "name": "python",
   "nbconvert_exporter": "python",
   "pygments_lexer": "ipython3",
   "version": "3.9.7"
  }
 },
 "nbformat": 4,
 "nbformat_minor": 2
}
