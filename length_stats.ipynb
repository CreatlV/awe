{
 "cells": [
  {
   "cell_type": "code",
   "execution_count": null,
   "metadata": {},
   "outputs": [],
   "source": [
    "import pandas as pd\n",
    "\n",
    "from awe import utils, features, awe_graph\n",
    "from awe.data import swde, dataset"
   ]
  },
  {
   "cell_type": "code",
   "execution_count": null,
   "metadata": {},
   "outputs": [],
   "source": [
    "sds = swde.Dataset(suffix='-exact')\n",
    "ds = dataset.DatasetCollection()"
   ]
  },
  {
   "cell_type": "code",
   "execution_count": null,
   "metadata": {},
   "outputs": [],
   "source": [
    "word_lengths = []\n",
    "fragment_lengths = []"
   ]
  },
  {
   "cell_type": "code",
   "execution_count": null,
   "metadata": {},
   "outputs": [],
   "source": [
    "tokenizer = features.get_default_tokenizer()\n",
    "\n",
    "def compute_one(page: awe_graph.HtmlPage):\n",
    "    word_lengths = []\n",
    "    fragment_lengths = []\n",
    "    ctx = ds.prepare_page_context(page)\n",
    "    for node in ctx.nodes:\n",
    "        if node.is_text:\n",
    "            tokens = tokenizer(node.text)\n",
    "            fragment_lengths.append(len(tokens))\n",
    "            for token in tokens:\n",
    "                word_lengths.append(len(token))\n",
    "    return word_lengths, fragment_lengths"
   ]
  },
  {
   "cell_type": "code",
   "execution_count": null,
   "metadata": {},
   "outputs": [],
   "source": [
    "pages = [p for w in sds.verticals[0].websites for p in w.pages]\n",
    "for w, f in utils.parallelize(16, compute_one, pages, 'pages'):\n",
    "    word_lengths.extend(w)\n",
    "    fragment_lengths.extend(f)"
   ]
  },
  {
   "cell_type": "code",
   "execution_count": null,
   "metadata": {},
   "outputs": [],
   "source": [
    "pd.options.display.float_format = '{:.2f}'.format\n",
    "percentiles = [.25, .5, .75, .95, .975, .99, .999]"
   ]
  },
  {
   "cell_type": "code",
   "execution_count": null,
   "metadata": {},
   "outputs": [],
   "source": [
    "pd.DataFrame(word_lengths).describe(percentiles).T"
   ]
  },
  {
   "cell_type": "code",
   "execution_count": null,
   "metadata": {},
   "outputs": [],
   "source": [
    "pd.DataFrame(fragment_lengths).describe(percentiles).T"
   ]
  },
  {
   "cell_type": "code",
   "execution_count": null,
   "metadata": {},
   "outputs": [],
   "source": []
  }
 ],
 "metadata": {
  "interpreter": {
   "hash": "d4d1e4263499bec80672ea0156c357c1ee493ec2b1c70f0acce89fc37c4a6abe"
  },
  "kernelspec": {
   "display_name": "Python 3.9.7 64-bit ('base': conda)",
   "language": "python",
   "name": "python3"
  },
  "language_info": {
   "codemirror_mode": {
    "name": "ipython",
    "version": 3
   },
   "file_extension": ".py",
   "mimetype": "text/x-python",
   "name": "python",
   "nbconvert_exporter": "python",
   "pygments_lexer": "ipython3",
   "version": "3.9.7"
  }
 },
 "nbformat": 4,
 "nbformat_minor": 2
}
