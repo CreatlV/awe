{
 "cells": [
  {
   "cell_type": "code",
   "execution_count": null,
   "metadata": {},
   "outputs": [],
   "source": [
    "import importlib\n",
    "\n",
    "import numpy as np\n",
    "import torch\n",
    "import pytorch_lightning as pl\n",
    "\n",
    "from awe import awe_model, gym, features\n",
    "from awe.data import swde, dataset, data_module"
   ]
  },
  {
   "cell_type": "markdown",
   "metadata": {},
   "source": [
    "## Load data"
   ]
  },
  {
   "cell_type": "code",
   "execution_count": null,
   "metadata": {},
   "outputs": [],
   "source": [
    "sds = swde.Dataset(suffix='-exact')\n",
    "websites = sds.verticals[0].websites\n",
    "rng = np.random.default_rng(42)\n",
    "website_indices = rng.choice(len(websites), 5, replace=False)\n",
    "train_pages = [\n",
    "    p for i in website_indices\n",
    "    for p in websites[i].pages\n",
    "]\n",
    "val_pages = [\n",
    "    p for i in range(len(websites))\n",
    "    if i not in website_indices\n",
    "    for p in rng.choice(websites[i].pages, 50, replace=False)\n",
    "]\n",
    "ds = dataset.DatasetCollection()\n",
    "ds.root.freeze()\n",
    "ds.features = [\n",
    "    features.Depth(),\n",
    "    features.IsLeaf(),\n",
    "    features.CharCategories(),\n",
    "    features.Visuals(),\n",
    "    features.CharIdentifiers(),\n",
    "    features.WordIdentifiers()\n",
    "]\n",
    "ds.create('train', train_pages, shuffle=True)\n",
    "ds.create('val_unseen', val_pages)\n",
    "ds.create('val_seen', rng.choice(train_pages, 200, replace=False))\n",
    "ds.create_dataloaders(batch_size=64, num_workers=8)\n",
    "ds.get_lengths()"
   ]
  },
  {
   "cell_type": "markdown",
   "metadata": {},
   "source": [
    "## Load model"
   ]
  },
  {
   "cell_type": "code",
   "execution_count": null,
   "metadata": {},
   "outputs": [],
   "source": [
    "label_count = len(ds.first_dataset.label_map)\n",
    "label_weights = [1] + [300] * (label_count - 1)\n",
    "label_weights"
   ]
  },
  {
   "cell_type": "code",
   "execution_count": null,
   "metadata": {},
   "outputs": [],
   "source": [
    "model = awe_model.AweModel(\n",
    "    feature_count=ds.feature_dim,\n",
    "    label_count=label_count,\n",
    "    label_weights=label_weights,\n",
    "    char_count=len(ds.root.chars) + 1,\n",
    "    use_gnn=True,\n",
    "    use_lstm=True,\n",
    "    use_cnn=False,\n",
    "    lstm_args={ 'bidirectional': True },\n",
    "    filter_node_words=True,\n",
    "    label_smoothing=0.1\n",
    ")"
   ]
  },
  {
   "cell_type": "code",
   "execution_count": null,
   "metadata": {},
   "outputs": [],
   "source": [
    "g = gym.Gym(ds, model)\n",
    "epoch = 9\n",
    "g.restore_checkpoint = f'logs/26-all-visuals-version_16/checkpoints/epoch={epoch}-step=789.ckpt'\n",
    "g.trainer = pl.Trainer(\n",
    "    max_epochs=epoch,\n",
    "    callbacks=[gym.CustomProgressBar(refresh_rate=10)],\n",
    "    resume_from_checkpoint=g.get_last_checkpoint_path(),\n",
    "    logger=g.create_logger(),\n",
    ")\n",
    "g.trainer.fit(model, data_module.DataModule(ds))"
   ]
  },
  {
   "cell_type": "markdown",
   "metadata": {},
   "source": [
    "## Predict"
   ]
  },
  {
   "cell_type": "code",
   "execution_count": null,
   "metadata": {},
   "outputs": [],
   "source": [
    "from awe import predictor\n",
    "\n",
    "_ = importlib.reload(predictor)"
   ]
  },
  {
   "cell_type": "code",
   "execution_count": null,
   "metadata": {},
   "outputs": [],
   "source": [
    "pred = predictor.Predictor(ds, 'train', model)"
   ]
  },
  {
   "cell_type": "code",
   "execution_count": null,
   "metadata": {},
   "outputs": [],
   "source": [
    "pred.evaluate(range(1))"
   ]
  },
  {
   "cell_type": "code",
   "execution_count": null,
   "metadata": {},
   "outputs": [],
   "source": [
    "count = 0\n",
    "metrics = awe_model.SwdeMetrics(0, 0, 0).to_vector()\n",
    "for batch in pred.ds[pred.name].loader:\n",
    "    for label in pred.ds.first_dataset.label_map.values():\n",
    "        if label != 0:\n",
    "            metrics += pred.model.compute_swde_metrics(\n",
    "                awe_model.ModelInputs(batch), label).to_vector()\n",
    "            count += 1\n",
    "    break # TODO: Temporary.\n",
    "awe_model.SwdeMetrics.from_vector(metrics / count)"
   ]
  },
  {
   "cell_type": "code",
   "execution_count": null,
   "metadata": {},
   "outputs": [],
   "source": [
    "batch.num_graphs"
   ]
  },
  {
   "cell_type": "code",
   "execution_count": null,
   "metadata": {},
   "outputs": [],
   "source": []
  }
 ],
 "metadata": {
  "interpreter": {
   "hash": "d4d1e4263499bec80672ea0156c357c1ee493ec2b1c70f0acce89fc37c4a6abe"
  },
  "kernelspec": {
   "display_name": "Python 3.9.7 64-bit ('base': conda)",
   "language": "python",
   "name": "python3"
  },
  "language_info": {
   "codemirror_mode": {
    "name": "ipython",
    "version": 3
   },
   "file_extension": ".py",
   "mimetype": "text/x-python",
   "name": "python",
   "nbconvert_exporter": "python",
   "pygments_lexer": "ipython3",
   "version": "3.9.7"
  }
 },
 "nbformat": 4,
 "nbformat_minor": 2
}
