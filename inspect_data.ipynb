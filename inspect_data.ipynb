{
 "cells": [
  {
   "cell_type": "code",
   "execution_count": null,
   "metadata": {},
   "outputs": [],
   "source": [
    "import itertools\n",
    "import importlib\n",
    "\n",
    "import numpy as np\n",
    "import networkx as nx\n",
    "\n",
    "import torch\n",
    "from torch_geometric import utils as gutils\n",
    "\n",
    "from awe import features, graph_utils\n",
    "from awe.data import swde, dataset\n",
    "\n",
    "for module in [features, graph_utils, dataset, swde]:\n",
    "    importlib.reload(module)"
   ]
  },
  {
   "cell_type": "code",
   "execution_count": null,
   "metadata": {},
   "outputs": [],
   "source": [
    "sds = swde.Dataset(suffix='-exact')"
   ]
  },
  {
   "cell_type": "code",
   "execution_count": null,
   "metadata": {},
   "outputs": [],
   "source": [
    "SUBSET = slice(None)\n",
    "# HACK: Some websites are wrongly extracted, so skip them for now.\n",
    "websites = [w for w in sds.verticals[0].websites if w.name not in ['motortrend', 'msn', 'yahoo']]\n",
    "rng = np.random.default_rng(42)\n",
    "website_indices = rng.choice(len(websites), 5, replace=False)\n",
    "train_pages = [\n",
    "    p for i in website_indices\n",
    "    for p in rng.choice(websites[i].pages, 300)\n",
    "]\n",
    "val_pages = [\n",
    "    p for i in range(len(websites))\n",
    "    if i not in website_indices\n",
    "    for p in rng.choice(websites[i].pages, 100)\n",
    "]\n",
    "ds = dataset.DatasetCollection()\n",
    "ds.create('train', train_pages[SUBSET])\n",
    "ds.create('val_unseen', val_pages[SUBSET])\n",
    "ds.create('val_seen', rng.choice(train_pages[SUBSET], 200))\n",
    "ds.get_lengths()"
   ]
  },
  {
   "cell_type": "code",
   "execution_count": null,
   "metadata": {},
   "outputs": [],
   "source": [
    "ds.features = [\n",
    "    features.Depth(),\n",
    "    features.IsLeaf(),\n",
    "    features.CharCategories(),\n",
    "    features.FontSize(),\n",
    "    features.CharIdentifiers(),\n",
    "    features.WordIdentifiers()\n",
    "]"
   ]
  },
  {
   "cell_type": "code",
   "execution_count": null,
   "metadata": {},
   "outputs": [],
   "source": [
    "ds.create_dataloaders(batch_size=2)"
   ]
  },
  {
   "cell_type": "code",
   "execution_count": null,
   "metadata": {},
   "outputs": [],
   "source": [
    "interesting_nodes = (\n",
    "    (ctx.page.file_path, node, batch.x[idx], batch.y[idx], batch.edge_index)\n",
    "    for ctx, node, batch, idx in ds['train'].iterate_data()\n",
    "    if node.labels == ['price']\n",
    ")\n",
    "iterator = itertools.islice(interesting_nodes, 0, None)\n",
    "next(iterator)"
   ]
  },
  {
   "cell_type": "code",
   "execution_count": null,
   "metadata": {},
   "outputs": [],
   "source": [
    "import bokeh.io\n",
    "import bokeh.plotting\n",
    "bokeh.io.output_notebook()"
   ]
  },
  {
   "cell_type": "code",
   "execution_count": null,
   "metadata": {},
   "outputs": [],
   "source": [
    "page = ds['train'].pages[0]\n",
    "page_ctx = ds.prepare_page_context(page)\n",
    "page.file_path"
   ]
  },
  {
   "cell_type": "code",
   "execution_count": null,
   "metadata": {},
   "outputs": [],
   "source": [
    "graph = graph_utils.to_networkx(page_ctx)"
   ]
  },
  {
   "cell_type": "code",
   "execution_count": null,
   "metadata": {},
   "outputs": [],
   "source": [
    "bokeh_graph = bokeh.plotting.from_networkx(graph, nx.spring_layout)"
   ]
  },
  {
   "cell_type": "code",
   "execution_count": null,
   "metadata": {},
   "outputs": [],
   "source": [
    "plot = bokeh.plotting.figure()\n",
    "plot.renderers.append(bokeh_graph)\n",
    "bokeh.io.show(plot)"
   ]
  },
  {
   "cell_type": "code",
   "execution_count": null,
   "metadata": {},
   "outputs": [],
   "source": []
  }
 ],
 "metadata": {
  "interpreter": {
   "hash": "d4d1e4263499bec80672ea0156c357c1ee493ec2b1c70f0acce89fc37c4a6abe"
  },
  "kernelspec": {
   "display_name": "Python 3.9.7 64-bit ('base': conda)",
   "language": "python",
   "name": "python3"
  },
  "language_info": {
   "codemirror_mode": {
    "name": "ipython",
    "version": 3
   },
   "file_extension": ".py",
   "mimetype": "text/x-python",
   "name": "python",
   "nbconvert_exporter": "python",
   "pygments_lexer": "ipython3",
   "version": "3.9.7"
  }
 },
 "nbformat": 4,
 "nbformat_minor": 2
}
