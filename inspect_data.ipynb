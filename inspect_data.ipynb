{
 "cells": [
  {
   "cell_type": "code",
   "execution_count": null,
   "metadata": {},
   "outputs": [],
   "source": [
    "import itertools\n",
    "import importlib\n",
    "\n",
    "import numpy as np\n",
    "import networkx as nx\n",
    "\n",
    "import torch\n",
    "from torch_geometric import utils as gutils\n",
    "\n",
    "from awe import features, graph_utils\n",
    "from awe.data import swde, dataset\n",
    "\n",
    "for module in [features, graph_utils, dataset, swde]:\n",
    "    importlib.reload(module)"
   ]
  },
  {
   "cell_type": "code",
   "execution_count": null,
   "metadata": {},
   "outputs": [],
   "source": [
    "sds = swde.Dataset(suffix='-exact')\n",
    "ds = dataset.DatasetCollection()"
   ]
  },
  {
   "cell_type": "code",
   "execution_count": null,
   "metadata": {},
   "outputs": [],
   "source": [
    "ds.features = [\n",
    "    features.Depth(),\n",
    "    features.IsLeaf(),\n",
    "    features.CharCategories(),\n",
    "    features.FontSize(),\n",
    "    features.CharIdentifiers(),\n",
    "    features.WordIdentifiers()\n",
    "]"
   ]
  },
  {
   "cell_type": "code",
   "execution_count": null,
   "metadata": {},
   "outputs": [],
   "source": [
    "import bokeh.io\n",
    "import bokeh.models\n",
    "import bokeh.palettes\n",
    "import bokeh.plotting\n",
    "import bokeh.transform\n",
    "bokeh.io.output_notebook()"
   ]
  },
  {
   "cell_type": "code",
   "execution_count": null,
   "metadata": {},
   "outputs": [],
   "source": [
    "page = sds.verticals[0].websites[3].pages[188]\n",
    "page_ctx = ds.prepare_page_context(page)\n",
    "page.file_path"
   ]
  },
  {
   "cell_type": "code",
   "execution_count": null,
   "metadata": {},
   "outputs": [],
   "source": [
    "[n for n in page_ctx.nodes if n.labels == ['price']][0]"
   ]
  },
  {
   "cell_type": "code",
   "execution_count": null,
   "metadata": {},
   "outputs": [],
   "source": [
    "graph = graph_utils.to_networkx(page_ctx)\n",
    "graph.nodes[440]"
   ]
  },
  {
   "cell_type": "code",
   "execution_count": null,
   "metadata": {},
   "outputs": [],
   "source": [
    "bokeh_graph = bokeh.plotting.from_networkx(graph, nx.spring_layout)"
   ]
  },
  {
   "cell_type": "code",
   "execution_count": null,
   "metadata": {},
   "outputs": [],
   "source": [
    "label_cmap = bokeh.transform.factor_cmap(\n",
    "    'label', bokeh.palettes.Spectral5, page.fields)\n",
    "bokeh_graph.node_renderer.glyph = bokeh.models.Circle(\n",
    "    size='display_size',\n",
    "    fill_color=label_cmap\n",
    ")"
   ]
  },
  {
   "cell_type": "code",
   "execution_count": null,
   "metadata": {},
   "outputs": [],
   "source": [
    "TOOLTIPS = [\n",
    "    ('index', '$index'),\n",
    "    ('size', '@display_size'),\n",
    "    ('id', '@id'),\n",
    "    ('tag', '@tag'),\n",
    "    ('text', '@text'),\n",
    "    ('label', '@label')\n",
    "]\n",
    "\n",
    "plot = bokeh.plotting.figure(\n",
    "    tooltips=TOOLTIPS,\n",
    "    active_scroll='wheel_zoom'\n",
    ")\n",
    "\n",
    "plot.renderers.append(bokeh_graph)\n",
    "bokeh.io.show(plot)"
   ]
  },
  {
   "cell_type": "code",
   "execution_count": null,
   "metadata": {},
   "outputs": [],
   "source": []
  }
 ],
 "metadata": {
  "interpreter": {
   "hash": "d4d1e4263499bec80672ea0156c357c1ee493ec2b1c70f0acce89fc37c4a6abe"
  },
  "kernelspec": {
   "display_name": "Python 3.9.7 64-bit ('base': conda)",
   "language": "python",
   "name": "python3"
  },
  "language_info": {
   "codemirror_mode": {
    "name": "ipython",
    "version": 3
   },
   "file_extension": ".py",
   "mimetype": "text/x-python",
   "name": "python",
   "nbconvert_exporter": "python",
   "pygments_lexer": "ipython3",
   "version": "3.9.7"
  }
 },
 "nbformat": 4,
 "nbformat_minor": 2
}
