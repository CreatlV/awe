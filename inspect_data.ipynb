{
 "cells": [
  {
   "cell_type": "code",
   "execution_count": null,
   "metadata": {},
   "outputs": [],
   "source": [
    "import itertools\n",
    "import importlib\n",
    "\n",
    "import numpy as np\n",
    "import networkx as nx\n",
    "\n",
    "import torch\n",
    "from torch_geometric import utils as gutils\n",
    "\n",
    "from awe import features, graph_utils, awe_graph, filtering\n",
    "from awe.data import swde, dataset\n",
    "\n",
    "for module in [features, graph_utils, awe_graph, filtering, dataset, swde]:\n",
    "    importlib.reload(module)"
   ]
  },
  {
   "cell_type": "code",
   "execution_count": null,
   "metadata": {},
   "outputs": [],
   "source": [
    "sds = swde.Dataset(suffix='-exact')\n",
    "ds = dataset.DatasetCollection()\n",
    "#ds.node_predicate = filtering.LeafNodePredicate()"
   ]
  },
  {
   "cell_type": "code",
   "execution_count": null,
   "metadata": {},
   "outputs": [],
   "source": [
    "import bokeh.io\n",
    "import bokeh.models\n",
    "import bokeh.palettes\n",
    "import bokeh.plotting\n",
    "import bokeh.transform\n",
    "bokeh.io.output_notebook()"
   ]
  },
  {
   "cell_type": "code",
   "execution_count": null,
   "metadata": {},
   "outputs": [],
   "source": [
    "page = sds.verticals[0].websites[3].pages[188]\n",
    "page_ctx = ds.prepare_page_context(page)\n",
    "page.file_path"
   ]
  },
  {
   "cell_type": "code",
   "execution_count": null,
   "metadata": {},
   "outputs": [],
   "source": [
    "example_node = [n for n in page_ctx.nodes if n.labels == ['price']][0]\n",
    "example_node"
   ]
  },
  {
   "cell_type": "code",
   "execution_count": null,
   "metadata": {},
   "outputs": [],
   "source": [
    "graph_utils.remove_single_nodes(page_ctx)"
   ]
  },
  {
   "cell_type": "code",
   "execution_count": null,
   "metadata": {},
   "outputs": [],
   "source": [
    "graph = graph_utils.to_networkx(page_ctx)\n",
    "graph.nodes[example_node.dataset_index]"
   ]
  },
  {
   "cell_type": "code",
   "execution_count": null,
   "metadata": {},
   "outputs": [],
   "source": [
    "REAL_LAYOUT = True\n",
    "layout = nx.get_node_attributes(graph, 'center') if REAL_LAYOUT else nx.planar_layout\n",
    "bokeh_graph = bokeh.plotting.from_networkx(graph, layout)"
   ]
  },
  {
   "cell_type": "code",
   "execution_count": null,
   "metadata": {},
   "outputs": [],
   "source": [
    "label_cmap = bokeh.transform.factor_cmap(\n",
    "    'label', bokeh.palettes.Spectral5, page.fields)\n",
    "\n",
    "def node_glyph(**kwargs):\n",
    "    return bokeh.models.Circle(\n",
    "        size='display_size',\n",
    "        fill_color=label_cmap,\n",
    "        **kwargs\n",
    "    )\n",
    "\n",
    "bokeh_graph.node_renderer.glyph = node_glyph()\n",
    "bokeh_graph.node_renderer.hover_glyph = node_glyph(line_width=2)\n",
    "bokeh_graph.node_renderer.selection_glyph = node_glyph(line_width=2)\n",
    "bokeh_graph.edge_renderer.glyph = bokeh.models.MultiLine(line_alpha=0.5)\n",
    "bokeh_graph.edge_renderer.hover_glyph = bokeh.models.MultiLine(line_width=2)\n",
    "bokeh_graph.edge_renderer.selection_glyph = bokeh.models.MultiLine(line_width=2)\n",
    "bokeh_graph.selection_policy = bokeh.models.NodesAndLinkedEdges()\n",
    "bokeh_graph.inspection_policy = bokeh.models.NodesAndLinkedEdges()"
   ]
  },
  {
   "cell_type": "code",
   "execution_count": null,
   "metadata": {},
   "outputs": [],
   "source": [
    "TOOLTIPS = [\n",
    "    ('index', '$index'),\n",
    "    ('size', '@display_size'),\n",
    "    ('summary', '@summary'),\n",
    "    ('label', '@label')\n",
    "]\n",
    "\n",
    "plot = bokeh.plotting.figure(\n",
    "    tooltips=TOOLTIPS,\n",
    "    active_scroll='wheel_zoom'\n",
    ")\n",
    "\n",
    "plot.renderers.append(bokeh_graph)\n",
    "plot.y_range.flipped = True\n",
    "bokeh.io.show(plot)"
   ]
  },
  {
   "cell_type": "code",
   "execution_count": null,
   "metadata": {},
   "outputs": [],
   "source": []
  }
 ],
 "metadata": {
  "interpreter": {
   "hash": "d4d1e4263499bec80672ea0156c357c1ee493ec2b1c70f0acce89fc37c4a6abe"
  },
  "kernelspec": {
   "display_name": "Python 3.9.7 64-bit ('base': conda)",
   "language": "python",
   "name": "python3"
  },
  "language_info": {
   "codemirror_mode": {
    "name": "ipython",
    "version": 3
   },
   "file_extension": ".py",
   "mimetype": "text/x-python",
   "name": "python",
   "nbconvert_exporter": "python",
   "pygments_lexer": "ipython3",
   "version": "3.9.7"
  }
 },
 "nbformat": 4,
 "nbformat_minor": 2
}
