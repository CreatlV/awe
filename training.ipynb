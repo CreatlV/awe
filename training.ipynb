{
 "cells": [
  {
   "cell_type": "code",
   "execution_count": null,
   "metadata": {},
   "outputs": [],
   "source": [
    "import dataclasses\n",
    "import importlib\n",
    "\n",
    "import numpy as np\n",
    "\n",
    "from awe import awe_model, gym, awe_trainer\n",
    "\n",
    "for module in [awe_model, gym, awe_trainer]:\n",
    "    importlib.reload(module)"
   ]
  },
  {
   "cell_type": "markdown",
   "metadata": {},
   "source": [
    "### Specify parameters"
   ]
  },
  {
   "cell_type": "code",
   "execution_count": null,
   "metadata": {},
   "outputs": [],
   "source": [
    "base_params = awe_trainer.AweTrainingParams(\n",
    "    epochs=50,\n",
    "    use_lstm=False,\n",
    "    disable_direct_features=True,\n",
    "    lstm_args={\n",
    "        'bidirectional': True\n",
    "    },\n",
    "    use_word_vectors=False\n",
    ")\n",
    "param_grid = [\n",
    "    dataclasses.replace(base_params,\n",
    "        version_name='no-direct-features-2-gcn',\n",
    "    ),\n",
    "    dataclasses.replace(base_params,\n",
    "        version_name='no-direct-features-1-gcn',\n",
    "        use_two_gcn_layers=False,\n",
    "    )\n",
    "]"
   ]
  },
  {
   "cell_type": "markdown",
   "metadata": {},
   "source": [
    "### Grid training"
   ]
  },
  {
   "cell_type": "code",
   "execution_count": null,
   "metadata": {},
   "outputs": [],
   "source": [
    "for params in param_grid:\n",
    "    print(f'*** Version: {params.version_name} ***')\n",
    "\n",
    "    trainer = awe_trainer.AweTrainer(params)\n",
    "    lengths = trainer.load_data()\n",
    "    print(lengths)\n",
    "\n",
    "    trainer.train_model()"
   ]
  },
  {
   "cell_type": "code",
   "execution_count": null,
   "metadata": {},
   "outputs": [],
   "source": []
  }
 ],
 "metadata": {
  "interpreter": {
   "hash": "d4d1e4263499bec80672ea0156c357c1ee493ec2b1c70f0acce89fc37c4a6abe"
  },
  "kernelspec": {
   "display_name": "Python 3 (ipykernel)",
   "language": "python",
   "name": "python3"
  },
  "language_info": {
   "codemirror_mode": {
    "name": "ipython",
    "version": 3
   },
   "file_extension": ".py",
   "mimetype": "text/x-python",
   "name": "python",
   "nbconvert_exporter": "python",
   "pygments_lexer": "ipython3",
   "version": "3.9.7"
  }
 },
 "nbformat": 4,
 "nbformat_minor": 2
}
