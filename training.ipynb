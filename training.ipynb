{
 "cells": [
  {
   "cell_type": "code",
   "execution_count": null,
   "metadata": {},
   "outputs": [],
   "source": [
    "import dataclasses\n",
    "import importlib\n",
    "\n",
    "import numpy as np\n",
    "\n",
    "from awe import awe_model, gym, awe_trainer\n",
    "\n",
    "for module in [awe_model, gym, awe_trainer]:\n",
    "    importlib.reload(module)"
   ]
  },
  {
   "cell_type": "markdown",
   "metadata": {},
   "source": [
    "## One-off training"
   ]
  },
  {
   "cell_type": "code",
   "execution_count": null,
   "metadata": {},
   "outputs": [],
   "source": [
    "base_params = awe_trainer.AweTrainingParams(\n",
    "    epochs=1,\n",
    "    use_lstm=False,\n",
    "    lstm_args={\n",
    "        'bidirectional': True\n",
    "    }\n",
    ")\n",
    "param_grid = [\n",
    "    dataclasses.replace(base_params,\n",
    "        version_name='first-test-name',\n",
    "    ),\n",
    "    dataclasses.replace(base_params,\n",
    "        version_name='second-test-name',\n",
    "        use_lstm=True,\n",
    "    )\n",
    "]"
   ]
  },
  {
   "cell_type": "code",
   "execution_count": null,
   "metadata": {},
   "outputs": [],
   "source": [
    "trainer = awe_trainer.AweTrainer(param_grid[1])\n",
    "trainer.load_data()"
   ]
  },
  {
   "cell_type": "code",
   "execution_count": null,
   "metadata": {},
   "outputs": [],
   "source": [
    "trainer.train_model()"
   ]
  },
  {
   "cell_type": "code",
   "execution_count": null,
   "metadata": {},
   "outputs": [],
   "source": [
    "#trainer.g.save_named_version('34-no-lstm-and-one-gcn-layer')"
   ]
  },
  {
   "cell_type": "markdown",
   "metadata": {},
   "source": [
    "## Grid training"
   ]
  },
  {
   "cell_type": "code",
   "execution_count": null,
   "metadata": {},
   "outputs": [],
   "source": [
    "rng = np.random.default_rng(42)\n",
    "index_grid = [list(rng.choice(10, 5, replace=False)) for _ in range(5)]\n",
    "index_grid"
   ]
  },
  {
   "cell_type": "code",
   "execution_count": null,
   "metadata": {},
   "outputs": [],
   "source": [
    "param_grid = [\n",
    "    awe_trainer.AweTrainingParams(\n",
    "        epochs=50,\n",
    "        lstm_args={\n",
    "            'bidirectional': True,\n",
    "            'num_layers': layers,\n",
    "            'dropout': dropout\n",
    "        }\n",
    "    )\n",
    "    for layers in [2, 3]\n",
    "    for dropout in [0.2, 0.4, 0.6]\n",
    "]"
   ]
  },
  {
   "cell_type": "code",
   "execution_count": null,
   "metadata": {},
   "outputs": [],
   "source": [
    "for params in param_grid:\n",
    "    trainer = awe_trainer.AweTrainer(params)\n",
    "    trainer.load_data()\n",
    "    trainer.train_model()"
   ]
  },
  {
   "cell_type": "code",
   "execution_count": null,
   "metadata": {},
   "outputs": [],
   "source": []
  }
 ],
 "metadata": {
  "interpreter": {
   "hash": "d4d1e4263499bec80672ea0156c357c1ee493ec2b1c70f0acce89fc37c4a6abe"
  },
  "kernelspec": {
   "display_name": "Python 3 (ipykernel)",
   "language": "python",
   "name": "python3"
  },
  "language_info": {
   "codemirror_mode": {
    "name": "ipython",
    "version": 3
   },
   "file_extension": ".py",
   "mimetype": "text/x-python",
   "name": "python",
   "nbconvert_exporter": "python",
   "pygments_lexer": "ipython3",
   "version": "3.9.7"
  }
 },
 "nbformat": 4,
 "nbformat_minor": 2
}
