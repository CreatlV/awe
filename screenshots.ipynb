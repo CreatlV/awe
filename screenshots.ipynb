{
 "cells": [
  {
   "cell_type": "code",
   "execution_count": null,
   "metadata": {},
   "outputs": [],
   "source": [
    "import importlib\n",
    "import itertools\n",
    "import os\n",
    "\n",
    "from awe.data import swde\n",
    "\n",
    "_ = importlib.reload(swde)"
   ]
  },
  {
   "cell_type": "markdown",
   "metadata": {},
   "source": [
    "## Find pages with screenshot"
   ]
  },
  {
   "cell_type": "code",
   "execution_count": null,
   "metadata": {},
   "outputs": [],
   "source": [
    "sds = swde.Dataset('-exact')"
   ]
  },
  {
   "cell_type": "code",
   "execution_count": null,
   "metadata": {},
   "outputs": [],
   "source": [
    "# Find pages with some screenshot.\n",
    "pages = [p\n",
    "    for v in sds.verticals[:1]\n",
    "    for w in v.websites\n",
    "    for p in w.pages\n",
    "    if p is not None and os.path.exists(p.screenshot_preview_path)\n",
    "]\n",
    "len(pages)"
   ]
  },
  {
   "cell_type": "code",
   "execution_count": null,
   "metadata": {},
   "outputs": [],
   "source": [
    "# Group pages by folder.\n",
    "groups = [(k, [p for p in g]) for k, g in itertools.groupby(pages, lambda p: p.group_key)]\n",
    "len(groups)"
   ]
  },
  {
   "cell_type": "markdown",
   "metadata": {},
   "source": [
    "## Plot them"
   ]
  },
  {
   "cell_type": "code",
   "execution_count": null,
   "metadata": {},
   "outputs": [],
   "source": [
    "import matplotlib.pyplot as plt"
   ]
  },
  {
   "cell_type": "code",
   "execution_count": null,
   "metadata": {},
   "outputs": [],
   "source": [
    "rows = len(groups)\n",
    "cols = max(len(g) for _, g in groups)\n",
    "fig, axs = plt.subplots(rows, cols, figsize=(12, 12))\n",
    "axs = axs.flatten() # required to generalize for cases when `cols == 1`\n",
    "for row, (key, group) in enumerate(groups):\n",
    "    for col, page in enumerate(group):\n",
    "        ax = axs[row * cols + col]\n",
    "        im = plt.imread(page.screenshot_preview_path)\n",
    "        ax.imshow(im)\n",
    "        ax.set_title(page.identifier)\n",
    "        ax.get_xaxis().set_visible(False)\n",
    "        ax.get_yaxis().set_visible(False)\n",
    "plt.show()"
   ]
  },
  {
   "cell_type": "code",
   "execution_count": null,
   "metadata": {},
   "outputs": [],
   "source": []
  }
 ],
 "metadata": {
  "interpreter": {
   "hash": "8f92fbf67c98bdb5fbfc63b4775c6e705120e02c61ccbdfe2dc3e3e90d4155ce"
  },
  "kernelspec": {
   "display_name": "Python 3.9.8 64-bit",
   "language": "python",
   "name": "python3"
  },
  "language_info": {
   "codemirror_mode": {
    "name": "ipython",
    "version": 3
   },
   "file_extension": ".py",
   "mimetype": "text/x-python",
   "name": "python",
   "nbconvert_exporter": "python",
   "pygments_lexer": "ipython3",
   "version": "3.9.8"
  }
 },
 "nbformat": 4,
 "nbformat_minor": 2
}
